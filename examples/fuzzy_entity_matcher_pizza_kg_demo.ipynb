{
 "cells": [
  {
   "cell_type": "code",
   "execution_count": 1,
   "metadata": {},
   "outputs": [],
   "source": [
    "import spacy\n",
    "from buzz_el.entity_matcher import FuzzyRuler"
   ]
  },
  {
   "cell_type": "code",
   "execution_count": 2,
   "metadata": {},
   "outputs": [],
   "source": [
    "# create a minimum spaCy Language (i.e., a pipeline)\n",
    "nlp = spacy.load(\n",
    "        \"en_core_web_sm\",\n",
    "        exclude=[\"tok2vec\", \"tagger\", \"parser\", \"attribute_ruler\", \"lemmatizer\", \"ner\"], # we make the pipeline as small as possible for our little demo\n",
    "    )"
   ]
  },
  {
   "cell_type": "code",
   "execution_count": 3,
   "metadata": {},
   "outputs": [],
   "source": [
    "text = \"I like chese and met.\"\n",
    "doc=nlp(text)"
   ]
  },
  {
   "cell_type": "code",
   "execution_count": 4,
   "metadata": {},
   "outputs": [],
   "source": [
    "ruler = FuzzyRuler(nlp)\n",
    "patterns = [\n",
    "    {\"label\":\"KG_ENT\",\"pattern\":\"cheese\",\"id\":\"CHEESE\"},\n",
    "    {\"label\":\"KG_ENT\",\"pattern\":\"meat\",\"id\":\"MEAT\"}\n",
    "]\n",
    "ruler.add_patterns(patterns)"
   ]
  },
  {
   "cell_type": "code",
   "execution_count": 5,
   "metadata": {},
   "outputs": [
    {
     "data": {
      "text/plain": [
       "I like chese and met."
      ]
     },
     "execution_count": 5,
     "metadata": {},
     "output_type": "execute_result"
    }
   ],
   "source": [
    "ruler(doc)"
   ]
  },
  {
   "cell_type": "code",
   "execution_count": 6,
   "metadata": {},
   "outputs": [
    {
     "name": "stdout",
     "output_type": "stream",
     "text": [
      "chese 2 3 CHEESE\n",
      "met 4 5 MEAT\n"
     ]
    }
   ],
   "source": [
    "for span in doc.spans['fuzzy']:\n",
    "    print(span.text, span.start, span.end, span.id_)"
   ]
  },
  {
   "cell_type": "markdown",
   "metadata": {},
   "source": [
    "----"
   ]
  },
  {
   "cell_type": "code",
   "execution_count": 7,
   "metadata": {},
   "outputs": [],
   "source": [
    "from pathlib import Path\n",
    "\n",
    "from buzz_el.graph import RDFGraphLoader\n",
    "from buzz_el.entity_matcher import EntityMatcher"
   ]
  },
  {
   "cell_type": "code",
   "execution_count": 8,
   "metadata": {},
   "outputs": [],
   "source": [
    "pizza_kg_filepath = Path(\"./data/pizzas_bisou_sample.ttl\")"
   ]
  },
  {
   "cell_type": "code",
   "execution_count": 15,
   "metadata": {},
   "outputs": [],
   "source": [
    "doc = \"I like ricotta cream base pizza but ricota cream base can be fat so sometimes I eat spinach but spinack are not so good.\""
   ]
  },
  {
   "cell_type": "code",
   "execution_count": 16,
   "metadata": {},
   "outputs": [],
   "source": [
    "nlp = spacy.load(\n",
    "        \"en_core_web_sm\",\n",
    "        exclude=[\"tok2vec\", \"tagger\", \"parser\", \"attribute_ruler\", \"lemmatizer\", \"ner\"], # we make the pipeline as small as possible for our little demo\n",
    "    )\n",
    "\n",
    "doc = nlp(doc)"
   ]
  },
  {
   "cell_type": "code",
   "execution_count": 17,
   "metadata": {},
   "outputs": [],
   "source": [
    "kg_loader = RDFGraphLoader(\n",
    "    kg_file_path=pizza_kg_filepath,\n",
    "    label_properties={\"skos:altLabel\", \"rdfs:label\", \"skos:prefLabel\"}, # define what are the annotation properties in RDF KG\n",
    "    lang_filter_tag=\"en\" # optionally define a language to focus on\n",
    ")\n",
    "\n",
    "pizza_kg = kg_loader.build_knowledge_graph()"
   ]
  },
  {
   "cell_type": "code",
   "execution_count": 18,
   "metadata": {},
   "outputs": [],
   "source": [
    "entity_matcher = EntityMatcher(\n",
    "    knowledge_graph=pizza_kg,\n",
    "    spacy_model=nlp,\n",
    "    use_fuzzy=True\n",
    ")"
   ]
  },
  {
   "cell_type": "code",
   "execution_count": 19,
   "metadata": {},
   "outputs": [],
   "source": [
    "doc = entity_matcher(doc)"
   ]
  },
  {
   "cell_type": "code",
   "execution_count": 20,
   "metadata": {},
   "outputs": [
    {
     "data": {
      "text/plain": [
       "{'string': [ricotta cream base, spinach], 'fuzzy': [ricotta cream base, ricota cream base, spinach, spinack]}"
      ]
     },
     "execution_count": 20,
     "metadata": {},
     "output_type": "execute_result"
    }
   ],
   "source": [
    "doc.spans"
   ]
  }
 ],
 "metadata": {
  "kernelspec": {
   "display_name": "venv",
   "language": "python",
   "name": "python3"
  },
  "language_info": {
   "codemirror_mode": {
    "name": "ipython",
    "version": 3
   },
   "file_extension": ".py",
   "mimetype": "text/x-python",
   "name": "python",
   "nbconvert_exporter": "python",
   "pygments_lexer": "ipython3",
   "version": "3.10.12"
  }
 },
 "nbformat": 4,
 "nbformat_minor": 2
}
