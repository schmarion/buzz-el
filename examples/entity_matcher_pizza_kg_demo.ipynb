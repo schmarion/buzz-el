{
 "cells": [
  {
   "cell_type": "markdown",
   "metadata": {},
   "source": [
    "# From an RDF KG to an entity matcher\n",
    "\n",
    "The goal here is to automatically construct an Entity Matcher based on an RDF Knowledge Graph (KG). \n",
    "For the purpose of this demo we have constructed a sample knowledge graph of the pizzas proposed by the restaurant Le bisou, Rouen, France: <https://www.bisourouen.fr/>\n",
    "\n",
    "The entity matcher used in the demo is effectively a spaCy span ruler. It means that the constructed matcher is rule-based and solely focused on linking the KG entities in a text by matching the raw strings.\n",
    "\n",
    "The input KG is expressed in RDF. For simplicity we only focus on english."
   ]
  },
  {
   "cell_type": "code",
   "execution_count": null,
   "metadata": {},
   "outputs": [],
   "source": [
    "from pathlib import Path\n",
    "\n",
    "import spacy\n",
    "\n",
    "from buzz_el.graph import RDFGraphLoader\n",
    "from buzz_el.entity_matcher import EntityMatcher"
   ]
  },
  {
   "cell_type": "code",
   "execution_count": null,
   "metadata": {},
   "outputs": [],
   "source": [
    "# path to the KG RDF file\n",
    "pizza_kg_filepath = Path(\"./data/pizzas_bisou_sample.ttl\")"
   ]
  },
  {
   "cell_type": "code",
   "execution_count": null,
   "metadata": {},
   "outputs": [],
   "source": [
    "# Example documents\n",
    "reviews = [\n",
    "    \"\"\"Absolutely delightful! The Bianca Castafiore pizza with its ricotta cream base offers a perfect blend of flavors. \n",
    "    I love the options of goat cheese and vegetarian toppings—especially the combination of black pepper, goat cheese, \n",
    "    honey, fior di latte mozzarella, spinach, and walnuts. A true treat for the taste buds!\"\"\",\n",
    "    \"\"\"A flavor explosion! The BurraTadah pizza, with its tomato base and pork pizza category, is a must-try. \n",
    "    The combination of black pepper, cherry tomatoes, mozzarella di burrata, fior di latte mozzarella, olive oil, \n",
    "    Parma ham, Parmesan cheese, and rocket creates a symphony of deliciousness. Simply irresistible!\"\"\",\n",
    "    \"\"\"Fit for royalty! The God Save The King pizza, featuring a tomato base and exquisite pork toppings, is a culinary masterpiece. \n",
    "    The Parisian mushroom carpaccio, ham from Paris with herbs, fior di latte mozzarella, and olives create a regal flavor profile. \n",
    "    A royal feast for the senses!\"\"\"\n",
    "]"
   ]
  },
  {
   "cell_type": "code",
   "execution_count": null,
   "metadata": {},
   "outputs": [],
   "source": [
    "# create a minimum spaCy Language (i.e., a pipeline)\n",
    "nlp = spacy.load(\n",
    "        \"en_core_web_sm\",\n",
    "        exclude=[\"tok2vec\", \"tagger\", \"parser\", \"attribute_ruler\", \"lemmatizer\", \"ner\"], # we make the pipeline as small as possible for our little demo\n",
    "    )\n",
    "\n",
    "corpus = [doc for doc in nlp.pipe(reviews)]"
   ]
  },
  {
   "cell_type": "markdown",
   "metadata": {},
   "source": [
    "The main goal of the graph loader is to construct an index of the entity URIs associated with their representative strings.\n",
    "\n",
    "By default the graph loader will consider an entity anything that is the subject of a triple containing an labelling property. And it will consider a representative string the object of such triple.\n",
    "\n",
    "You can provide you own annotation properties. If not a usual one (i.e., for which RDFlib has a namespace defined), you need to provide the full URI. By default it will use rdfs:label.\n",
    "\n",
    "You can also filter using a language tag."
   ]
  },
  {
   "cell_type": "code",
   "execution_count": null,
   "metadata": {},
   "outputs": [],
   "source": [
    "# Build a graph loader\n",
    "kg_loader = RDFGraphLoader(\n",
    "    kg_file_path=pizza_kg_filepath,\n",
    "    label_properties={\"skos:altLabel\", \"rdfs:label\", \"skos:prefLabel\"}, # define what are the annotation properties in RDF KG\n",
    "    lang_filter_tag=\"en\" # optionally define a language to focus on\n",
    ")\n",
    "\n",
    "pizza_kg = kg_loader.build_knowledge_graph()"
   ]
  },
  {
   "cell_type": "code",
   "execution_count": null,
   "metadata": {},
   "outputs": [],
   "source": [
    "# build an entity matcher\n",
    "entity_matcher = EntityMatcher(\n",
    "    knowledge_graph=pizza_kg,\n",
    "    spacy_model=nlp\n",
    ")"
   ]
  },
  {
   "cell_type": "code",
   "execution_count": null,
   "metadata": {},
   "outputs": [],
   "source": [
    "# process your documents\n",
    "corpus = [doc for doc in entity_matcher.pipe(corpus)]"
   ]
  },
  {
   "cell_type": "code",
   "execution_count": null,
   "metadata": {},
   "outputs": [],
   "source": [
    "# The spans are stored in the Doc.spans attribute by default in the \"string\" key.\n",
    "corpus[0].spans"
   ]
  },
  {
   "cell_type": "code",
   "execution_count": null,
   "metadata": {},
   "outputs": [],
   "source": [
    "for doc in corpus:\n",
    "    print(doc)\n",
    "    for span in doc.spans[\"string\"]:\n",
    "        print(span.text, span.start, span.end, span.id_.replace(\"http://www.msesboue.org/o/pizza-data-demo/bisou#\", \"pizza:\"))\n",
    "    print()"
   ]
  }
 ],
 "metadata": {
  "kernelspec": {
   "display_name": "venv",
   "language": "python",
   "name": "python3"
  },
  "language_info": {
   "codemirror_mode": {
    "name": "ipython",
    "version": 3
   },
   "file_extension": ".py",
   "mimetype": "text/x-python",
   "name": "python",
   "nbconvert_exporter": "python",
   "pygments_lexer": "ipython3",
   "version": "3.10.12"
  }
 },
 "nbformat": 4,
 "nbformat_minor": 2
}
