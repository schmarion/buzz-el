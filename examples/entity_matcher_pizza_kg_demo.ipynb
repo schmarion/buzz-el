{
 "cells": [
  {
   "cell_type": "markdown",
   "metadata": {},
   "source": [
    "# From an RDF KG to an entity matcher\n",
    "\n",
    "The goal here is to automatically construct an Entity Matcher based on an RDF Knowledge Graph (KG), here the well known pizza ontology. (The original version is accessible here: <https://github.com/owlcs/pizza-ontology>)\n",
    "\n",
    "The produced entity matcher is effectively a spaCy span ruler. It means that the constructed matcher is rule-based en solely focused on linking the KG entities in a text by matching the raw strings.\n",
    "\n",
    "The input KG is expressed in RDF. It means that we will focus on the annotation properties to construct our entity matching rule set. For simplicity we wil also first focus on english."
   ]
  },
  {
   "cell_type": "code",
   "execution_count": 3,
   "metadata": {},
   "outputs": [],
   "source": [
    "import spacy\n",
    "from random import sample\n",
    "\n",
    "from buzz_el.graph_loader import GraphLoader\n",
    "from buzz_el.entity_matcher import EntityMatcher"
   ]
  },
  {
   "cell_type": "code",
   "execution_count": 4,
   "metadata": {},
   "outputs": [],
   "source": [
    "# path to the KG RDF file\n",
    "pizza_onto_filepath = \"./data/pizza.ttl\""
   ]
  },
  {
   "cell_type": "code",
   "execution_count": 5,
   "metadata": {},
   "outputs": [],
   "source": [
    "# Example documents\n",
    "docs = [\n",
    "    \"Margherita Pizza: The classic Italian pizza, topped with tomato sauce, fresh mozzarella cheese, fresh basil leaves, and a drizzle of olive oil.\",\n",
    "    \"Pepperoni Pizza: A beloved American favorite, topped with tomato sauce, mozzarella cheese, and slices of pepperoni, which are a type of spicy salami.\",\n",
    "    \"Hawaiian Pizza: A controversial choice, featuring tomato sauce, mozzarella cheese, ham, and pineapple. The sweet and salty combination is either loved or loathed by pizza enthusiasts.\",\n",
    "    \"BBQ Chicken Pizza: A unique twist, with barbecue sauce instead of tomato sauce, topped with mozzarella cheese, grilled chicken, red onions, and sometimes, cilantro.\",\n",
    "    \"Supreme Pizza: Packed with toppings, this pizza typically includes tomato sauce, mozzarella cheese, pepperoni, sausage, bell peppers, onions, olives, and mushrooms.\",\n",
    "    \"Vegetarian Pizza: Perfect for those who prefer a meatless option, this pizza includes tomato sauce, mozzarella cheese, and a variety of vegetables such as bell peppers, onions, tomatoes, olives, and mushrooms.\"\n",
    "]"
   ]
  },
  {
   "cell_type": "code",
   "execution_count": 6,
   "metadata": {},
   "outputs": [],
   "source": [
    "# create a minimum spaCy Language (i.e., a pipeline)\n",
    "nlp = spacy.load(\n",
    "        \"en_core_web_sm\",\n",
    "        exclude=[\"tok2vec\", \"tagger\", \"parser\", \"attribute_ruler\", \"lemmatizer\", \"ner\"], # we make the pipeline as small as possible for our little demo\n",
    "    )\n",
    "\n",
    "corpus = [doc for doc in nlp.pipe(docs)]"
   ]
  },
  {
   "cell_type": "markdown",
   "metadata": {},
   "source": [
    "The main goal of the graph loader is to construct an index of the entity URIs associated with their representative strings.\n",
    "\n",
    "By default the graph loader will consider an entity anything that is the subject of a triple containing an annotation property. And it will consider a representative string the object of such triple.\n",
    "\n",
    "You can provide you own annotation properties. If not a usual one (i.e., for which RDFlib has a namespace defined), you need to provide the full URI. By default it will use rdfs:label.\n",
    "\n",
    "You can also filter using a language tag."
   ]
  },
  {
   "cell_type": "code",
   "execution_count": 7,
   "metadata": {},
   "outputs": [],
   "source": [
    "# Build a graph loader\n",
    "kg_loader = GraphLoader(\n",
    "    kg_file_path=pizza_onto_filepath,\n",
    "    annotation_properties={\"skos:altLabel\", \"rdfs:label\", \"skos:prefLabel\"}, # define what are the annotation properties in RDF KG\n",
    "    lang_filter_tag=\"en\" # optionally define a language to focus on\n",
    ")"
   ]
  },
  {
   "cell_type": "code",
   "execution_count": 8,
   "metadata": {},
   "outputs": [
    {
     "data": {
      "text/plain": [
       "[('http://www.co-ode.org/ontologies/pizza/pizza.owl#PolloAdAstra',\n",
       "  {'Pollo Ad Astra', 'Pollo Ad Astra Pizza', 'PolloAdAstra'}),\n",
       " ('http://www.co-ode.org/ontologies/pizza/pizza.owl#InterestingPizza',\n",
       "  {'Interesting Pizza', 'InterestingPizza'}),\n",
       " ('http://www.co-ode.org/ontologies/pizza/pizza.owl#ParmesanTopping',\n",
       "  {'Parmezan', 'ParmezanTopping'}),\n",
       " ('http://www.co-ode.org/ontologies/pizza/pizza.owl#Country', {'Country'}),\n",
       " ('http://www.co-ode.org/ontologies/pizza/pizza.owl#PepperTopping',\n",
       "  {'Pepper', 'PepperTopping'}),\n",
       " ('http://www.co-ode.org/ontologies/pizza/pizza.owl#Capricciosa',\n",
       "  {'Capricciosa', 'Capricciosa Pizza'}),\n",
       " ('http://www.co-ode.org/ontologies/pizza/pizza.owl#Veneziana',\n",
       "  {'Veneziana', 'Veneziana Pizza'}),\n",
       " ('http://www.co-ode.org/ontologies/pizza/pizza.owl#CheeseTopping',\n",
       "  {'Cheese', 'CheeseTopping'}),\n",
       " ('http://www.co-ode.org/ontologies/pizza/pizza.owl#American',\n",
       "  {'American', 'American Pizza'}),\n",
       " ('http://www.co-ode.org/ontologies/pizza/pizza.owl#SpicyPizza',\n",
       "  {'Spicy Pizza', 'SpicyPizza'})]"
      ]
     },
     "execution_count": 8,
     "metadata": {},
     "output_type": "execute_result"
    }
   ],
   "source": [
    "# visualise the index\n",
    "sample(list(kg_loader._entity_str_idx.items()), 10)"
   ]
  },
  {
   "cell_type": "code",
   "execution_count": 9,
   "metadata": {},
   "outputs": [],
   "source": [
    "# build an entity matcher\n",
    "entity_matcher = EntityMatcher(graph_loader=kg_loader, nlp=nlp)\n",
    "\n",
    "# you can customise your spaCy span ruler config. See: <https://spacy.io/api/spanruler#config> \n",
    "# ruler_config = {\n",
    "#     \"phrase_matcher_attr\": \"LOWER\",\n",
    "#     \"spans_key\": \"kg_ents\"\n",
    "# }\n",
    "# entity_matcher.build_entity_ruler(config=ruler_config)"
   ]
  },
  {
   "cell_type": "code",
   "execution_count": 10,
   "metadata": {},
   "outputs": [],
   "source": [
    "# process your documents\n",
    "corpus = [doc for doc in entity_matcher.pipe(corpus)]"
   ]
  },
  {
   "cell_type": "code",
   "execution_count": 11,
   "metadata": {},
   "outputs": [
    {
     "data": {
      "text/plain": [
       "{'ruler': [Margherita, Margherita Pizza, Pizza, pizza, tomato, sauce, mozzarella, cheese, olive]}"
      ]
     },
     "execution_count": 11,
     "metadata": {},
     "output_type": "execute_result"
    }
   ],
   "source": [
    "# The spans are stored in the Doc.spans attribute by default in the \"ruler\" key.\n",
    "corpus[0].spans"
   ]
  },
  {
   "cell_type": "code",
   "execution_count": 12,
   "metadata": {},
   "outputs": [
    {
     "name": "stdout",
     "output_type": "stream",
     "text": [
      "Margherita Pizza: The classic Italian pizza, topped with tomato sauce, fresh mozzarella cheese, fresh basil leaves, and a drizzle of olive oil.\n",
      "Margherita 0 1 pizza-onto:Margherita\n",
      "Margherita Pizza 0 2 pizza-onto:Margherita\n",
      "Pizza 1 2 pizza-onto:Pizza\n",
      "pizza 6 7 pizza-onto:Pizza\n",
      "tomato 10 11 pizza-onto:TomatoTopping\n",
      "sauce 11 12 pizza-onto:SauceTopping\n",
      "mozzarella 14 15 pizza-onto:MozzarellaTopping\n",
      "cheese 15 16 pizza-onto:CheeseTopping\n",
      "olive 25 26 pizza-onto:OliveTopping\n",
      "\n",
      "Pepperoni Pizza: A beloved American favorite, topped with tomato sauce, mozzarella cheese, and slices of pepperoni, which are a type of spicy salami.\n",
      "Pizza 1 2 pizza-onto:Pizza\n",
      "American 5 6 pizza-onto:American\n",
      "tomato 10 11 pizza-onto:TomatoTopping\n",
      "sauce 11 12 pizza-onto:SauceTopping\n",
      "mozzarella 13 14 pizza-onto:MozzarellaTopping\n",
      "cheese 14 15 pizza-onto:CheeseTopping\n",
      "spicy 26 27 pizza-onto:SpicyTopping\n",
      "\n",
      "Hawaiian Pizza: A controversial choice, featuring tomato sauce, mozzarella cheese, ham, and pineapple. The sweet and salty combination is either loved or loathed by pizza enthusiasts.\n",
      "Pizza 1 2 pizza-onto:Pizza\n",
      "tomato 8 9 pizza-onto:TomatoTopping\n",
      "sauce 9 10 pizza-onto:SauceTopping\n",
      "mozzarella 11 12 pizza-onto:MozzarellaTopping\n",
      "cheese 12 13 pizza-onto:CheeseTopping\n",
      "ham 14 15 pizza-onto:HamTopping\n",
      "pizza 30 31 pizza-onto:Pizza\n",
      "\n",
      "BBQ Chicken Pizza: A unique twist, with barbecue sauce instead of tomato sauce, topped with mozzarella cheese, grilled chicken, red onions, and sometimes, cilantro.\n",
      "Chicken 1 2 pizza-onto:ChickenTopping\n",
      "Pizza 2 3 pizza-onto:Pizza\n",
      "sauce 10 11 pizza-onto:SauceTopping\n",
      "tomato 13 14 pizza-onto:TomatoTopping\n",
      "sauce 14 15 pizza-onto:SauceTopping\n",
      "mozzarella 18 19 pizza-onto:MozzarellaTopping\n",
      "cheese 19 20 pizza-onto:CheeseTopping\n",
      "chicken 22 23 pizza-onto:ChickenTopping\n",
      "\n",
      "Supreme Pizza: Packed with toppings, this pizza typically includes tomato sauce, mozzarella cheese, pepperoni, sausage, bell peppers, onions, olives, and mushrooms.\n",
      "Pizza 1 2 pizza-onto:Pizza\n",
      "pizza 8 9 pizza-onto:Pizza\n",
      "tomato 11 12 pizza-onto:TomatoTopping\n",
      "sauce 12 13 pizza-onto:SauceTopping\n",
      "mozzarella 14 15 pizza-onto:MozzarellaTopping\n",
      "cheese 15 16 pizza-onto:CheeseTopping\n",
      "\n",
      "Vegetarian Pizza: Perfect for those who prefer a meatless option, this pizza includes tomato sauce, mozzarella cheese, and a variety of vegetables such as bell peppers, onions, tomatoes, olives, and mushrooms.\n",
      "Vegetarian Pizza 0 2 pizza-onto:VegetarianPizza\n",
      "Pizza 1 2 pizza-onto:Pizza\n",
      "pizza 13 14 pizza-onto:Pizza\n",
      "tomato 15 16 pizza-onto:TomatoTopping\n",
      "sauce 16 17 pizza-onto:SauceTopping\n",
      "mozzarella 18 19 pizza-onto:MozzarellaTopping\n",
      "cheese 19 20 pizza-onto:CheeseTopping\n",
      "\n"
     ]
    }
   ],
   "source": [
    "for doc in corpus:\n",
    "    print(doc)\n",
    "    for span in doc.spans[\"ruler\"]:\n",
    "        print(span.text, span.start, span.end, span.id_.replace(\"http://www.co-ode.org/ontologies/pizza/pizza.owl#\", \"pizza-onto:\"))\n",
    "    print()"
   ]
  }
 ],
 "metadata": {
  "kernelspec": {
   "display_name": "venv",
   "language": "python",
   "name": "python3"
  },
  "language_info": {
   "codemirror_mode": {
    "name": "ipython",
    "version": 3
   },
   "file_extension": ".py",
   "mimetype": "text/x-python",
   "name": "python",
   "nbconvert_exporter": "python",
   "pygments_lexer": "ipython3",
   "version": "3.10.4"
  }
 },
 "nbformat": 4,
 "nbformat_minor": 2
}
